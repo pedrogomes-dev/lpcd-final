{
 "metadata": {
  "language_info": {
   "codemirror_mode": {
    "name": "ipython",
    "version": 3
   },
   "file_extension": ".py",
   "mimetype": "text/x-python",
   "name": "python",
   "nbconvert_exporter": "python",
   "pygments_lexer": "ipython3",
   "version": "3.9.1-final"
  },
  "orig_nbformat": 2,
  "kernelspec": {
   "name": "python3",
   "display_name": "Python 3.9.1 64-bit ('venv')",
   "metadata": {
    "interpreter": {
     "hash": "04903c6f2f30cbdde10e224c2f2eff5815f53dca29281cb2417fd1740288d184"
    }
   }
  }
 },
 "nbformat": 4,
 "nbformat_minor": 2,
 "cells": [
  {
   "cell_type": "code",
   "execution_count": 1,
   "metadata": {},
   "outputs": [
    {
     "output_type": "stream",
     "name": "stdout",
     "text": [
      "teste\n"
     ]
    }
   ],
   "source": [
    "print('HW')"
   ]
  },
  {
   "cell_type": "code",
   "execution_count": 11,
   "metadata": {},
   "outputs": [
    {
     "output_type": "execute_result",
     "data": {
      "text/plain": [
       "array(['city', 'state'], dtype=object)"
      ]
     },
     "metadata": {},
     "execution_count": 11
    }
   ],
   "source": [
    "import pandas as pd\n",
    "df = pd.read_csv('database/covid19_casos_brasil.csv',parse_dates=['date'])\n",
    "\n",
    "df.shape\n",
    "df.dtypes\n",
    "df.place_type.unique()"
   ]
  },
  {
   "cell_type": "code",
   "execution_count": 60,
   "metadata": {},
   "outputs": [
    {
     "output_type": "execute_result",
     "data": {
      "text/plain": [
       "Timestamp('2020-07-12 00:00:00')"
      ]
     },
     "metadata": {},
     "execution_count": 60
    }
   ],
   "source": [
    "municipios = ['Presidente Prudente', 'Rondonópolis', 'Campo Novo do Parecis', 'Araraquara', 'Porto Velho']\n",
    "\n",
    "municipios_escolhidos_periodo = df[(df.city.isin(municipios)) & (df.date < '2021-01-31')]\n",
    "municipios_escolhidos_periodo.shape\n",
    "df.date.max()"
   ]
  },
  {
   "cell_type": "code",
   "execution_count": 51,
   "metadata": {},
   "outputs": [
    {
     "output_type": "execute_result",
     "data": {
      "text/plain": [
       "             city state       date  new_confirmed\n",
       "838   Porto Velho    RO 2020-03-21              2\n",
       "1014  Porto Velho    RO 2020-03-22              0\n",
       "1213  Porto Velho    RO 2020-03-23              0\n",
       "1433  Porto Velho    RO 2020-03-24              2"
      ],
      "text/html": "<div>\n<style scoped>\n    .dataframe tbody tr th:only-of-type {\n        vertical-align: middle;\n    }\n\n    .dataframe tbody tr th {\n        vertical-align: top;\n    }\n\n    .dataframe thead th {\n        text-align: right;\n    }\n</style>\n<table border=\"1\" class=\"dataframe\">\n  <thead>\n    <tr style=\"text-align: right;\">\n      <th></th>\n      <th>city</th>\n      <th>state</th>\n      <th>date</th>\n      <th>new_confirmed</th>\n    </tr>\n  </thead>\n  <tbody>\n    <tr>\n      <th>838</th>\n      <td>Porto Velho</td>\n      <td>RO</td>\n      <td>2020-03-21</td>\n      <td>2</td>\n    </tr>\n    <tr>\n      <th>1014</th>\n      <td>Porto Velho</td>\n      <td>RO</td>\n      <td>2020-03-22</td>\n      <td>0</td>\n    </tr>\n    <tr>\n      <th>1213</th>\n      <td>Porto Velho</td>\n      <td>RO</td>\n      <td>2020-03-23</td>\n      <td>0</td>\n    </tr>\n    <tr>\n      <th>1433</th>\n      <td>Porto Velho</td>\n      <td>RO</td>\n      <td>2020-03-24</td>\n      <td>2</td>\n    </tr>\n  </tbody>\n</table>\n</div>"
     },
     "metadata": {},
     "execution_count": 51
    }
   ],
   "source": [
    "casos_por_dia = municipios_escolhidos_periodo.filter(['city','state','date','new_confirmed'])\n",
    "casos_por_dia.shape\n",
    "casos_por_dia.head(4)"
   ]
  },
  {
   "cell_type": "code",
   "execution_count": 63,
   "metadata": {},
   "outputs": [
    {
     "output_type": "execute_result",
     "data": {
      "text/plain": [
       "                             new_confirmed\n",
       "city                  state               \n",
       "Araraquara            SP              1244\n",
       "Campo Novo do Parecis MT               365\n",
       "Porto Velho           RO             15656\n",
       "Presidente Prudente   SP              1039\n",
       "Rondonópolis          MT              2218"
      ],
      "text/html": "<div>\n<style scoped>\n    .dataframe tbody tr th:only-of-type {\n        vertical-align: middle;\n    }\n\n    .dataframe tbody tr th {\n        vertical-align: top;\n    }\n\n    .dataframe thead th {\n        text-align: right;\n    }\n</style>\n<table border=\"1\" class=\"dataframe\">\n  <thead>\n    <tr style=\"text-align: right;\">\n      <th></th>\n      <th></th>\n      <th>new_confirmed</th>\n    </tr>\n    <tr>\n      <th>city</th>\n      <th>state</th>\n      <th></th>\n    </tr>\n  </thead>\n  <tbody>\n    <tr>\n      <th>Araraquara</th>\n      <th>SP</th>\n      <td>1244</td>\n    </tr>\n    <tr>\n      <th>Campo Novo do Parecis</th>\n      <th>MT</th>\n      <td>365</td>\n    </tr>\n    <tr>\n      <th>Porto Velho</th>\n      <th>RO</th>\n      <td>15656</td>\n    </tr>\n    <tr>\n      <th>Presidente Prudente</th>\n      <th>SP</th>\n      <td>1039</td>\n    </tr>\n    <tr>\n      <th>Rondonópolis</th>\n      <th>MT</th>\n      <td>2218</td>\n    </tr>\n  </tbody>\n</table>\n</div>"
     },
     "metadata": {},
     "execution_count": 63
    }
   ],
   "source": [
    "agregado_casos_por_municipio = casos_por_dia.groupby(['city','state',]).sum()\n",
    "agregado_casos_por_municipio"
   ]
  },
  {
   "cell_type": "code",
   "execution_count": null,
   "metadata": {},
   "outputs": [],
   "source": []
  }
 ]
}
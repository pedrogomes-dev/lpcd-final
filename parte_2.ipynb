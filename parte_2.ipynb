{
 "metadata": {
  "language_info": {
   "codemirror_mode": {
    "name": "ipython",
    "version": 3
   },
   "file_extension": ".py",
   "mimetype": "text/x-python",
   "name": "python",
   "nbconvert_exporter": "python",
   "pygments_lexer": "ipython3",
   "version": "3.9.1-final"
  },
  "orig_nbformat": 2,
  "kernelspec": {
   "name": "python3",
   "display_name": "Python 3.9.1 64-bit ('venv')",
   "metadata": {
    "interpreter": {
     "hash": "04903c6f2f30cbdde10e224c2f2eff5815f53dca29281cb2417fd1740288d184"
    }
   }
  }
 },
 "nbformat": 4,
 "nbformat_minor": 2,
 "cells": [
  {
   "cell_type": "code",
   "execution_count": 1,
   "metadata": {},
   "outputs": [],
   "source": [
    "# -*- coding: utf-8 -*-\n",
    "import pandas as pd\n",
    "import conexao as c\n",
    "import criador\n",
    "import carregador"
   ]
  },
  {
   "cell_type": "code",
   "execution_count": 2,
   "metadata": {},
   "outputs": [
    {
     "output_type": "stream",
     "name": "stdout",
     "text": [
      "Setando Parâmetros de Configuração!\n",
      "Database em uso!\n",
      "Setando Parâmetros de Configuração!\n",
      "('sc_covid',)\n",
      "1 row(s) affected(s).\n",
      "('tabelas criadas',)\n",
      "1 row(s) affected(s).\n",
      "Inseridos: 5328 municípos, 340772 relatórios\n"
     ]
    }
   ],
   "source": [
    "criador.main()"
   ]
  },
  {
   "cell_type": "code",
   "execution_count": 3,
   "metadata": {},
   "outputs": [
    {
     "output_type": "stream",
     "name": "stdout",
     "text": [
      "Setando Parâmetros de Configuração!\n",
      "city_ibge_code                                     int64\n",
      "city                                              object\n",
      "state                                             object\n",
      "estimated_population_2019                          int64\n",
      "date                                              object\n",
      "epidemiological_week                               int64\n",
      "new_confirmed                                      int64\n",
      "new_deaths                                         int64\n",
      "is_last                                             bool\n",
      "is_repeated                                         bool\n",
      "last_available_confirmed                           int64\n",
      "last_available_confirmed_per_100k_inhabitants    float64\n",
      "last_available_date                               object\n",
      "last_available_death_rate                        float64\n",
      "last_available_deaths                              int64\n",
      "order_for_place                                    int64\n",
      "dtype: object\n",
      "(517, 16)\n"
     ]
    }
   ],
   "source": [
    "df = carregador.main()"
   ]
  },
  {
   "cell_type": "code",
   "execution_count": 4,
   "metadata": {},
   "outputs": [
    {
     "output_type": "stream",
     "name": "stdout",
     "text": [
      "(517, 16)\n"
     ]
    }
   ],
   "source": [
    "print(df.shape)"
   ]
  },
  {
   "source": [
    "### Qual o nível de risco de cada cidade?\n"
   ],
   "cell_type": "markdown",
   "metadata": {}
  },
  {
   "cell_type": "code",
   "execution_count": 21,
   "metadata": {},
   "outputs": [
    {
     "output_type": "execute_result",
     "data": {
      "text/plain": [
       "        city_ibge_code                   city state  \\\n",
       "84124          3503208             Araraquara    SP   \n",
       "255609         5107602           Rondonópolis    MT   \n",
       "298227         1100205            Porto Velho    RO   \n",
       "340073         3541406    Presidente Prudente    SP   \n",
       "340373         5102637  Campo Novo do Parecis    MT   \n",
       "\n",
       "        estimated_population_2019        date  epidemiological_week  \\\n",
       "84124                      236072  2020-07-11                    28   \n",
       "255609                     232491  2020-07-12                    29   \n",
       "298227                     529544  2020-07-12                    29   \n",
       "340073                     228743  2020-07-11                    28   \n",
       "340373                      35360  2020-07-12                    29   \n",
       "\n",
       "        new_confirmed  new_deaths  is_last  is_repeated  \\\n",
       "84124              17           0     True        False   \n",
       "255609             53          -1     True        False   \n",
       "298227             42           8     True        False   \n",
       "340073             29           0     True        False   \n",
       "340373             14           2     True        False   \n",
       "\n",
       "        last_available_confirmed  \\\n",
       "84124                       1244   \n",
       "255609                      2218   \n",
       "298227                     15656   \n",
       "340073                      1039   \n",
       "340373                       365   \n",
       "\n",
       "        last_available_confirmed_per_100k_inhabitants last_available_date  \\\n",
       "84124                                       526.95790          2020-07-11   \n",
       "255609                                      954.01544          2020-07-12   \n",
       "298227                                     2956.50590          2020-07-12   \n",
       "340073                                      454.22156          2020-07-11   \n",
       "340373                                     1032.23990          2020-07-12   \n",
       "\n",
       "        last_available_death_rate  last_available_deaths  order_for_place  \\\n",
       "84124                      0.0121                     15              101   \n",
       "255609                     0.0451                    100              105   \n",
       "298227                     0.0271                    425              114   \n",
       "340073                     0.0241                     25               95   \n",
       "340373                     0.0219                      8              100   \n",
       "\n",
       "               0  \n",
       "84124   0.005270  \n",
       "255609  0.009540  \n",
       "298227  0.029565  \n",
       "340073  0.004542  \n",
       "340373  0.010322  "
      ],
      "text/html": "<div>\n<style scoped>\n    .dataframe tbody tr th:only-of-type {\n        vertical-align: middle;\n    }\n\n    .dataframe tbody tr th {\n        vertical-align: top;\n    }\n\n    .dataframe thead th {\n        text-align: right;\n    }\n</style>\n<table border=\"1\" class=\"dataframe\">\n  <thead>\n    <tr style=\"text-align: right;\">\n      <th></th>\n      <th>city_ibge_code</th>\n      <th>city</th>\n      <th>state</th>\n      <th>estimated_population_2019</th>\n      <th>date</th>\n      <th>epidemiological_week</th>\n      <th>new_confirmed</th>\n      <th>new_deaths</th>\n      <th>is_last</th>\n      <th>is_repeated</th>\n      <th>last_available_confirmed</th>\n      <th>last_available_confirmed_per_100k_inhabitants</th>\n      <th>last_available_date</th>\n      <th>last_available_death_rate</th>\n      <th>last_available_deaths</th>\n      <th>order_for_place</th>\n      <th>0</th>\n    </tr>\n  </thead>\n  <tbody>\n    <tr>\n      <th>84124</th>\n      <td>3503208</td>\n      <td>Araraquara</td>\n      <td>SP</td>\n      <td>236072</td>\n      <td>2020-07-11</td>\n      <td>28</td>\n      <td>17</td>\n      <td>0</td>\n      <td>True</td>\n      <td>False</td>\n      <td>1244</td>\n      <td>526.95790</td>\n      <td>2020-07-11</td>\n      <td>0.0121</td>\n      <td>15</td>\n      <td>101</td>\n      <td>0.005270</td>\n    </tr>\n    <tr>\n      <th>255609</th>\n      <td>5107602</td>\n      <td>Rondonópolis</td>\n      <td>MT</td>\n      <td>232491</td>\n      <td>2020-07-12</td>\n      <td>29</td>\n      <td>53</td>\n      <td>-1</td>\n      <td>True</td>\n      <td>False</td>\n      <td>2218</td>\n      <td>954.01544</td>\n      <td>2020-07-12</td>\n      <td>0.0451</td>\n      <td>100</td>\n      <td>105</td>\n      <td>0.009540</td>\n    </tr>\n    <tr>\n      <th>298227</th>\n      <td>1100205</td>\n      <td>Porto Velho</td>\n      <td>RO</td>\n      <td>529544</td>\n      <td>2020-07-12</td>\n      <td>29</td>\n      <td>42</td>\n      <td>8</td>\n      <td>True</td>\n      <td>False</td>\n      <td>15656</td>\n      <td>2956.50590</td>\n      <td>2020-07-12</td>\n      <td>0.0271</td>\n      <td>425</td>\n      <td>114</td>\n      <td>0.029565</td>\n    </tr>\n    <tr>\n      <th>340073</th>\n      <td>3541406</td>\n      <td>Presidente Prudente</td>\n      <td>SP</td>\n      <td>228743</td>\n      <td>2020-07-11</td>\n      <td>28</td>\n      <td>29</td>\n      <td>0</td>\n      <td>True</td>\n      <td>False</td>\n      <td>1039</td>\n      <td>454.22156</td>\n      <td>2020-07-11</td>\n      <td>0.0241</td>\n      <td>25</td>\n      <td>95</td>\n      <td>0.004542</td>\n    </tr>\n    <tr>\n      <th>340373</th>\n      <td>5102637</td>\n      <td>Campo Novo do Parecis</td>\n      <td>MT</td>\n      <td>35360</td>\n      <td>2020-07-12</td>\n      <td>29</td>\n      <td>14</td>\n      <td>2</td>\n      <td>True</td>\n      <td>False</td>\n      <td>365</td>\n      <td>1032.23990</td>\n      <td>2020-07-12</td>\n      <td>0.0219</td>\n      <td>8</td>\n      <td>100</td>\n      <td>0.010322</td>\n    </tr>\n  </tbody>\n</table>\n</div>"
     },
     "metadata": {},
     "execution_count": 21
    }
   ],
   "source": [
    "nivel_risco = df[df.is_last]\n",
    "percent_confirmed = nivel_risco['last_available_confirmed']/nivel_risco['estimated_population_2019']\n",
    "percent_confirmed = percent_confirmed*100\n",
    "nivel_risco = pd.concat([nivel_risco, percentual_contaminados], axis=1)\n",
    "nivel_risco.rename(columns={0: 'percent_confirmed',}, inplace=True)\n",
    "\n",
    "nivel_risco"
   ]
  },
  {
   "cell_type": "code",
   "execution_count": null,
   "metadata": {},
   "outputs": [],
   "source": []
  }
 ]
}